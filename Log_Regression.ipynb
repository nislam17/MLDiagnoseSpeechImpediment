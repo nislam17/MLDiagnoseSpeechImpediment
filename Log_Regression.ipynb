{
 "cells": [
  {
   "cell_type": "code",
   "execution_count": 64,
   "metadata": {
    "collapsed": true
   },
   "outputs": [],
   "source": [
    "import pandas as pd\n",
    "import numpy as np\n",
    "import matplotlib\n",
    "import sklearn.preprocessing\n",
    "from sklearn import linear_model\n",
    "import sklearn.model_selection\n",
    "import matplotlib.pyplot as plt\n",
    "%matplotlib inline"
   ]
  },
  {
   "cell_type": "code",
   "execution_count": 65,
   "metadata": {
    "collapsed": true
   },
   "outputs": [],
   "source": [
    "import keras"
   ]
  },
  {
   "cell_type": "markdown",
   "metadata": {},
   "source": [
    "# logistic regression"
   ]
  },
  {
   "cell_type": "code",
   "execution_count": 66,
   "metadata": {
    "collapsed": true
   },
   "outputs": [],
   "source": [
    "#df = pd.read_csv(\"childrenDiagnosis.csv\")\n",
    "\n",
    "#df.head(6)"
   ]
  },
  {
   "cell_type": "code",
   "execution_count": 67,
   "metadata": {},
   "outputs": [
    {
     "data": {
      "text/html": [
       "<div>\n",
       "<style>\n",
       "    .dataframe thead tr:only-child th {\n",
       "        text-align: right;\n",
       "    }\n",
       "\n",
       "    .dataframe thead th {\n",
       "        text-align: left;\n",
       "    }\n",
       "\n",
       "    .dataframe tbody tr th {\n",
       "        vertical-align: top;\n",
       "    }\n",
       "</style>\n",
       "<table border=\"1\" class=\"dataframe\">\n",
       "  <thead>\n",
       "    <tr style=\"text-align: right;\">\n",
       "      <th></th>\n",
       "      <th>Y</th>\n",
       "      <th>age_years</th>\n",
       "      <th>child_TNW</th>\n",
       "      <th>child_TNS</th>\n",
       "      <th>examiner_TNW</th>\n",
       "      <th>freq_ttr</th>\n",
       "      <th>r_2_i_verbs</th>\n",
       "      <th>mor_words</th>\n",
       "      <th>num_pos_tags</th>\n",
       "      <th>n_dos</th>\n",
       "      <th>...</th>\n",
       "      <th>word_errors</th>\n",
       "      <th>f_k</th>\n",
       "      <th>n_v</th>\n",
       "      <th>n_aux</th>\n",
       "      <th>n_3s_v</th>\n",
       "      <th>det_n_pl</th>\n",
       "      <th>det_pl_n</th>\n",
       "      <th>pro_aux</th>\n",
       "      <th>pro_3s_v</th>\n",
       "      <th>total_error</th>\n",
       "    </tr>\n",
       "  </thead>\n",
       "  <tbody>\n",
       "    <tr>\n",
       "      <th>0</th>\n",
       "      <td>1</td>\n",
       "      <td>13.750000</td>\n",
       "      <td>287</td>\n",
       "      <td>36</td>\n",
       "      <td>4</td>\n",
       "      <td>0.333</td>\n",
       "      <td>0.108108</td>\n",
       "      <td>252</td>\n",
       "      <td>29</td>\n",
       "      <td>0</td>\n",
       "      <td>...</td>\n",
       "      <td>8</td>\n",
       "      <td>1.210456</td>\n",
       "      <td>0</td>\n",
       "      <td>2</td>\n",
       "      <td>2</td>\n",
       "      <td>7</td>\n",
       "      <td>0</td>\n",
       "      <td>0</td>\n",
       "      <td>1</td>\n",
       "      <td>12</td>\n",
       "    </tr>\n",
       "    <tr>\n",
       "      <th>1</th>\n",
       "      <td>1</td>\n",
       "      <td>14.333333</td>\n",
       "      <td>368</td>\n",
       "      <td>42</td>\n",
       "      <td>27</td>\n",
       "      <td>0.274</td>\n",
       "      <td>0.050000</td>\n",
       "      <td>361</td>\n",
       "      <td>30</td>\n",
       "      <td>0</td>\n",
       "      <td>...</td>\n",
       "      <td>16</td>\n",
       "      <td>1.871708</td>\n",
       "      <td>0</td>\n",
       "      <td>4</td>\n",
       "      <td>0</td>\n",
       "      <td>5</td>\n",
       "      <td>0</td>\n",
       "      <td>0</td>\n",
       "      <td>0</td>\n",
       "      <td>9</td>\n",
       "    </tr>\n",
       "    <tr>\n",
       "      <th>2</th>\n",
       "      <td>1</td>\n",
       "      <td>13.333333</td>\n",
       "      <td>266</td>\n",
       "      <td>26</td>\n",
       "      <td>2</td>\n",
       "      <td>0.411</td>\n",
       "      <td>0.105263</td>\n",
       "      <td>246</td>\n",
       "      <td>32</td>\n",
       "      <td>0</td>\n",
       "      <td>...</td>\n",
       "      <td>0</td>\n",
       "      <td>2.240602</td>\n",
       "      <td>0</td>\n",
       "      <td>1</td>\n",
       "      <td>0</td>\n",
       "      <td>5</td>\n",
       "      <td>0</td>\n",
       "      <td>0</td>\n",
       "      <td>0</td>\n",
       "      <td>6</td>\n",
       "    </tr>\n",
       "    <tr>\n",
       "      <th>3</th>\n",
       "      <td>1</td>\n",
       "      <td>15.333333</td>\n",
       "      <td>405</td>\n",
       "      <td>40</td>\n",
       "      <td>21</td>\n",
       "      <td>0.359</td>\n",
       "      <td>0.148936</td>\n",
       "      <td>348</td>\n",
       "      <td>34</td>\n",
       "      <td>0</td>\n",
       "      <td>...</td>\n",
       "      <td>4</td>\n",
       "      <td>1.877762</td>\n",
       "      <td>1</td>\n",
       "      <td>0</td>\n",
       "      <td>0</td>\n",
       "      <td>11</td>\n",
       "      <td>0</td>\n",
       "      <td>0</td>\n",
       "      <td>0</td>\n",
       "      <td>12</td>\n",
       "    </tr>\n",
       "    <tr>\n",
       "      <th>4</th>\n",
       "      <td>1</td>\n",
       "      <td>14.666667</td>\n",
       "      <td>300</td>\n",
       "      <td>35</td>\n",
       "      <td>20</td>\n",
       "      <td>0.279</td>\n",
       "      <td>0.150000</td>\n",
       "      <td>294</td>\n",
       "      <td>30</td>\n",
       "      <td>0</td>\n",
       "      <td>...</td>\n",
       "      <td>8</td>\n",
       "      <td>0.339524</td>\n",
       "      <td>0</td>\n",
       "      <td>1</td>\n",
       "      <td>1</td>\n",
       "      <td>5</td>\n",
       "      <td>0</td>\n",
       "      <td>0</td>\n",
       "      <td>0</td>\n",
       "      <td>7</td>\n",
       "    </tr>\n",
       "    <tr>\n",
       "      <th>5</th>\n",
       "      <td>1</td>\n",
       "      <td>14.833333</td>\n",
       "      <td>224</td>\n",
       "      <td>31</td>\n",
       "      <td>26</td>\n",
       "      <td>0.377</td>\n",
       "      <td>0.052632</td>\n",
       "      <td>215</td>\n",
       "      <td>27</td>\n",
       "      <td>0</td>\n",
       "      <td>...</td>\n",
       "      <td>10</td>\n",
       "      <td>1.609315</td>\n",
       "      <td>0</td>\n",
       "      <td>0</td>\n",
       "      <td>0</td>\n",
       "      <td>5</td>\n",
       "      <td>0</td>\n",
       "      <td>0</td>\n",
       "      <td>0</td>\n",
       "      <td>5</td>\n",
       "    </tr>\n",
       "  </tbody>\n",
       "</table>\n",
       "<p>6 rows × 59 columns</p>\n",
       "</div>"
      ],
      "text/plain": [
       "   Y  age_years  child_TNW  child_TNS  examiner_TNW  freq_ttr  r_2_i_verbs  \\\n",
       "0  1  13.750000        287         36             4     0.333     0.108108   \n",
       "1  1  14.333333        368         42            27     0.274     0.050000   \n",
       "2  1  13.333333        266         26             2     0.411     0.105263   \n",
       "3  1  15.333333        405         40            21     0.359     0.148936   \n",
       "4  1  14.666667        300         35            20     0.279     0.150000   \n",
       "5  1  14.833333        224         31            26     0.377     0.052632   \n",
       "\n",
       "   mor_words  num_pos_tags  n_dos     ...       word_errors       f_k  n_v  \\\n",
       "0        252            29      0     ...                 8  1.210456    0   \n",
       "1        361            30      0     ...                16  1.871708    0   \n",
       "2        246            32      0     ...                 0  2.240602    0   \n",
       "3        348            34      0     ...                 4  1.877762    1   \n",
       "4        294            30      0     ...                 8  0.339524    0   \n",
       "5        215            27      0     ...                10  1.609315    0   \n",
       "\n",
       "   n_aux  n_3s_v  det_n_pl  det_pl_n  pro_aux  pro_3s_v  total_error  \n",
       "0      2       2         7         0        0         1           12  \n",
       "1      4       0         5         0        0         0            9  \n",
       "2      1       0         5         0        0         0            6  \n",
       "3      0       0        11         0        0         0           12  \n",
       "4      1       1         5         0        0         0            7  \n",
       "5      0       0         5         0        0         0            5  \n",
       "\n",
       "[6 rows x 59 columns]"
      ]
     },
     "execution_count": 67,
     "metadata": {},
     "output_type": "execute_result"
    }
   ],
   "source": [
    "#names = ['Y', 'filename', 'sex', 'age', 'age_years', 'corpus', 'group', 'child_TNW']\n",
    "\n",
    "#df = pd.read_csv('childrenDiagnosis.csv', header=None,delim_whitespace=True,names=names,na_values='?')\n",
    "\n",
    "#df = pd.read_csv('childrenDiagnosis.csv', header=0, delim_whitespace=False, na_values='?')\n",
    "\n",
    "# Read the file into a pandas data frame.\n",
    "df = pd.read_csv(\"childrenDiagnosis.csv\", header=0, delim_whitespace=False,na_values='?') \n",
    "''' columns = ['Y', 'filename', 'sex', 'age', 'age_years', 'corpus', 'group',\n",
    "       'child_TNW', 'child_TNS', 'examiner_TNW', 'freq_ttr', 'r_2_i_verbs',\n",
    "       'mor_words', 'num_pos_tags', 'n_dos', 'repetition', 'retracing',\n",
    "       'fillers', 's_1g_ppl', 's_2g_ppl', 's_3g_ppl', 'd_1g_ppl',\n",
    "       'd_2g_ppl', 'd_3g_ppl', 'z_mlu_sli', 'z_mlu_td',\n",
    "       'z_word_errors_sli', 'z_word_errors_td', 'z_r_2_i_verbs_sli',\n",
    "       'z_r_2_i_verbs_td', 'z_utts_sli', 'z_utts_td', 'total_syl',\n",
    "       'average_syl', 'mlu_words', 'mlu_morphemes', 'mlu100_utts',\n",
    "       'verb_utt', 'dss', 'ipsyn_total', 'present_progressive',\n",
    "       'propositions_in', 'propositions_on', 'plural_s',\n",
    "       'irregular_past_tense', 'possessive_s', 'uncontractible_copula',\n",
    "       'articles', 'regular_past_ed', 'regular_3rd_person_s',\n",
    "       'irregular_3rd_person', 'uncontractible_aux', 'contractible_copula',\n",
    "       'contractible_aux', 'word_errors', 'f_k', 'n_v', 'n_aux', 'n_3s_v',\n",
    "       'det_n_pl', 'det_pl_n', 'pro_aux', 'pro_3s_v', 'total_error'] \n",
    "  '''\n",
    "df1 = pd.DataFrame(df, columns=['Y', 'age_years',\n",
    "       'child_TNW', 'child_TNS', 'examiner_TNW', 'freq_ttr', 'r_2_i_verbs',\n",
    "       'mor_words', 'num_pos_tags', 'n_dos', 'repetition', 'retracing',\n",
    "       'fillers', 's_1g_ppl', 's_2g_ppl', 's_3g_ppl', 'd_1g_ppl',\n",
    "       'd_2g_ppl', 'd_3g_ppl', 'z_mlu_sli', 'z_mlu_td',\n",
    "       'z_word_errors_sli', 'z_word_errors_td', 'z_r_2_i_verbs_sli',\n",
    "       'z_r_2_i_verbs_td', 'z_utts_sli', 'z_utts_td', 'total_syl',\n",
    "       'average_syl', 'mlu_words', 'mlu_morphemes', 'mlu100_utts',\n",
    "       'verb_utt', 'dss', 'ipsyn_total', 'present_progressive',\n",
    "       'propositions_in', 'propositions_on', 'plural_s',\n",
    "       'irregular_past_tense', 'possessive_s', 'uncontractible_copula',\n",
    "       'articles', 'regular_past_ed', 'regular_3rd_person_s',\n",
    "       'irregular_3rd_person', 'uncontractible_aux', 'contractible_copula',\n",
    "       'contractible_aux', 'word_errors', 'f_k', 'n_v', 'n_aux', 'n_3s_v',\n",
    "       'det_n_pl', 'det_pl_n', 'pro_aux', 'pro_3s_v', 'total_error'])\n",
    "df = df.dropna(axis = 1)\n",
    "df1.head(6)\n",
    "\n"
   ]
  },
  {
   "cell_type": "code",
   "execution_count": 68,
   "metadata": {},
   "outputs": [
    {
     "data": {
      "text/plain": [
       "'\\nnames = [\\'age\\', \\'age_years\\', \\'child_TNW\\', \\'child_TNS\\', \\'examiner_TNW\\', \\'word_errors\\']\\ndf = pd.read_csv(\"childrenDiagnosis.csv\", delim_whitespace=False,names=names,na_values=\\'?\\',header=None)\\ndf = df.dropna(axis =1)\\ndf.head(6)\\n'"
      ]
     },
     "execution_count": 68,
     "metadata": {},
     "output_type": "execute_result"
    }
   ],
   "source": [
    "#df1 = np.array(df)\n",
    "#df1.shape\n",
    "\n",
    "# Shuffle rows and convert all data type to float\n",
    "#df2 = np.array(df1.sample(frac=1).astype('float', copy=False))\n",
    "\n",
    "'''\n",
    "names = ['age', 'age_years', 'child_TNW', 'child_TNS', 'examiner_TNW', 'word_errors']\n",
    "df = pd.read_csv(\"childrenDiagnosis.csv\", delim_whitespace=False,names=names,na_values='?',header=None)\n",
    "df = df.dropna(axis =1)\n",
    "df.head(6)\n",
    "'''"
   ]
  },
  {
   "cell_type": "code",
   "execution_count": 71,
   "metadata": {},
   "outputs": [
    {
     "data": {
      "text/plain": [
       "(1163, 58)"
      ]
     },
     "execution_count": 71,
     "metadata": {},
     "output_type": "execute_result"
    }
   ],
   "source": [
    "df2 = np.array(df1.sample(frac=1).astype('float', copy=False))\n",
    "\n",
    "X = df2[:, 1:]\n",
    "y = df2[:, 0]\n",
    "\n",
    "X.shape"
   ]
  },
  {
   "cell_type": "code",
   "execution_count": 72,
   "metadata": {
    "collapsed": true
   },
   "outputs": [],
   "source": [
    "X_train = X[:600, :]\n",
    "Y_train = y[:600]\n",
    "X_test = X[600:, :]\n",
    "Y_test = y[600:]"
   ]
  },
  {
   "cell_type": "markdown",
   "metadata": {},
   "source": [
    "# Logistic regression- lasso L1 regularization "
   ]
  },
  {
   "cell_type": "code",
   "execution_count": 81,
   "metadata": {
    "collapsed": true
   },
   "outputs": [],
   "source": [
    "acc_train_logreg = [] \n",
    "acc_test_logreg = []\n",
    "\n",
    "c_logreg = []\n"
   ]
  },
  {
   "cell_type": "code",
   "execution_count": 82,
   "metadata": {
    "collapsed": true
   },
   "outputs": [],
   "source": [
    "#logistic regression model \n",
    "\n",
    "def logreg_model(c , X_train , Y_train , X_test, Y_test):\n",
    "    logreg = linear_model.LogisticRegression(penalty = 'L1', C = c , solver = 'saga')\n",
    "    \n",
    "    logreg.fit(X_train, Y_train)\n",
    "    \n",
    "    print(X_train.shape)\n",
    "    \n",
    "    Yhat_train = logreg.predict(X_train)\n",
    "    acc_train = np.mean(Yhat_train == Y_train)\n",
    "    acc_train_logreg.append(acc_train)\n",
    "    print(\"Accuracy on training data = %f\" % acc_train)\n",
    "    \n",
    "    Yhat_test = logreg.predict(X_test)\n",
    "    acc_test = np.mean(Yhat_test == Y_test)\n",
    "    acc_test_logreg.append(acc_test)\n",
    "    print(\"Accuracy on test data = %f\" % acc_test)\n",
    "    \n",
    "    c_logreg.append(c)"
   ]
  },
  {
   "cell_type": "code",
   "execution_count": 225,
   "metadata": {},
   "outputs": [
    {
     "name": "stdout",
     "output_type": "stream",
     "text": [
      "(697, 58)\n",
      "Accuracy on training data = 0.833572\n",
      "Accuracy on test data = 0.858369\n"
     ]
    },
    {
     "name": "stderr",
     "output_type": "stream",
     "text": [
      "C:\\Users\\musfe\\Anaconda3.6\\lib\\site-packages\\sklearn\\linear_model\\sag.py:326: ConvergenceWarning: The max_iter was reached which means the coef_ did not converge\n",
      "  \"the coef_ did not converge\", ConvergenceWarning)\n"
     ]
    }
   ],
   "source": [
    "logreg_model(100, X_train, Y_train, X_test, Y_test)"
   ]
  },
  {
   "cell_type": "code",
   "execution_count": 121,
   "metadata": {},
   "outputs": [
    {
     "data": {
      "text/plain": [
       "[0.77166666666666661,\n",
       " 0.77166666666666661,\n",
       " 0.77166666666666661,\n",
       " 0.77166666666666661,\n",
       " 0.77166666666666661,\n",
       " 0.77166666666666661,\n",
       " 0.77166666666666661,\n",
       " 0.77166666666666661]"
      ]
     },
     "execution_count": 121,
     "metadata": {},
     "output_type": "execute_result"
    }
   ],
   "source": [
    "acc_train_logreg"
   ]
  },
  {
   "cell_type": "code",
   "execution_count": 122,
   "metadata": {},
   "outputs": [
    {
     "data": {
      "text/plain": [
       "[0.77087033747779754,\n",
       " 0.77087033747779754,\n",
       " 0.77087033747779754,\n",
       " 0.77087033747779754,\n",
       " 0.77087033747779754,\n",
       " 0.77087033747779754,\n",
       " 0.77087033747779754,\n",
       " 0.77087033747779754]"
      ]
     },
     "execution_count": 122,
     "metadata": {},
     "output_type": "execute_result"
    }
   ],
   "source": [
    "acc_test_logreg"
   ]
  },
  {
   "cell_type": "code",
   "execution_count": 123,
   "metadata": {},
   "outputs": [
    {
     "data": {
      "text/plain": [
       "[<matplotlib.lines.Line2D at 0x213f2b92198>]"
      ]
     },
     "execution_count": 123,
     "metadata": {},
     "output_type": "execute_result"
    },
    {
     "data": {
      "image/png": "[encoded data removed]",
      "text/plain": [
       "<matplotlib.figure.Figure at 0x213f169b588>"
      ]
     },
     "metadata": {},
     "output_type": "display_data"
    }
   ],
   "source": [
    "plt.plot(c_logreg, acc_train_logreg)"
   ]
  },
  {
   "cell_type": "code",
   "execution_count": 124,
   "metadata": {},
   "outputs": [
    {
     "data": {
      "text/plain": [
       "[<matplotlib.lines.Line2D at 0x213f2becda0>]"
      ]
     },
     "execution_count": 124,
     "metadata": {},
     "output_type": "execute_result"
    },
    {
     "data": {
      "image/png": "[encoded data removed]",
      "text/plain": [
       "<matplotlib.figure.Figure at 0x213f2ae6860>"
      ]
     },
     "metadata": {},
     "output_type": "display_data"
    }
   ],
   "source": [
    "plt.plot(c_logreg , acc_test_logreg )"
   ]
  },
  {
   "cell_type": "markdown",
   "metadata": {},
   "source": [
    "# Logistic Regression with L2 Regularization "
   ]
  },
  {
   "cell_type": "code",
   "execution_count": 125,
   "metadata": {
    "collapsed": true
   },
   "outputs": [],
   "source": [
    "acc_train_logreg2 = []\n",
    "acc_test_logreg2 = []\n",
    "\n",
    "c_logreg2 = []"
   ]
  },
  {
   "cell_type": "code",
   "execution_count": 126,
   "metadata": {
    "collapsed": true
   },
   "outputs": [],
   "source": [
    "def logreg2_model(c , X_train, Y_train, X_test, Y_test):\n",
    "    logreg2 = linear_model.LogisticRegression(C=c)\n",
    "    \n",
    "    logreg2.fit(X_train, Y_train)\n",
    "    \n",
    "    \n",
    "    Yhat_train = logreg2.predict(X_train)\n",
    "    acc_train= np.mean(Yhat_train == Y_train)\n",
    "    acc_train_logreg2.append(acc_train)\n",
    "    print(\"Accuracy on training data = %f\" % acc_train)\n",
    "    \n",
    "    Yhat_test = logreg2.predict(X_test)\n",
    "    acc_test = np.mean(Yhat_test == Y_test)\n",
    "    acc_test_logreg2.append(acc_test)\n",
    "    print(\"Accuracy on training data = %f\" % acc_test)\n",
    "    \n",
    "    c_logreg2.append(c)"
   ]
  },
  {
   "cell_type": "code",
   "execution_count": 240,
   "metadata": {},
   "outputs": [
    {
     "name": "stdout",
     "output_type": "stream",
     "text": [
      "Accuracy on training data = 0.833572\n",
      "Accuracy on training data = 0.860515\n"
     ]
    }
   ],
   "source": [
    "logreg2_model(100, X_train, Y_train, X_test, Y_test)"
   ]
  },
  {
   "cell_type": "code",
   "execution_count": 135,
   "metadata": {},
   "outputs": [
    {
     "name": "stdout",
     "output_type": "stream",
     "text": [
      "[0.84191829484902314, 0.84369449378330375, 0.84369449378330375]\n"
     ]
    }
   ],
   "source": [
    "print(acc_test_logreg2)"
   ]
  },
  {
   "cell_type": "code",
   "execution_count": 159,
   "metadata": {},
   "outputs": [
    {
     "data": {
      "text/plain": [
       "[<matplotlib.lines.Line2D at 0x213f4f3ee10>]"
      ]
     },
     "execution_count": 159,
     "metadata": {},
     "output_type": "execute_result"
    },
    {
     "data": {
      "image/png": "[encoded data removed]",
      "text/plain": [
       "<matplotlib.figure.Figure at 0x213f4f3eba8>"
      ]
     },
     "metadata": {},
     "output_type": "display_data"
    }
   ],
   "source": [
    "plt.scatter(c_logreg2 , acc_train_logreg2 )\n",
    "plt.plot(c_logreg2 , acc_train_logreg2 )"
   ]
  },
  {
   "cell_type": "code",
   "execution_count": 157,
   "metadata": {},
   "outputs": [
    {
     "data": {
      "text/plain": [
       "<matplotlib.collections.PathCollection at 0x213f4f0a6a0>"
      ]
     },
     "execution_count": 157,
     "metadata": {},
     "output_type": "execute_result"
    },
    {
     "data": {
      "image/png": "[encoded data removed]",
      "text/plain": [
       "<matplotlib.figure.Figure at 0x213f4e83080>"
      ]
     },
     "metadata": {},
     "output_type": "display_data"
    }
   ],
   "source": [
    "plt.scatter(c_logreg2, acc_test_logreg2)"
   ]
  },
  {
   "cell_type": "markdown",
   "metadata": {},
   "source": [
    "# Logistic Regression with Polynomial Transformation"
   ]
  },
  {
   "cell_type": "code",
   "execution_count": 243,
   "metadata": {
    "collapsed": true
   },
   "outputs": [],
   "source": [
    "from sklearn.preprocessing import PolynomialFeatures"
   ]
  },
  {
   "cell_type": "code",
   "execution_count": 244,
   "metadata": {
    "collapsed": true
   },
   "outputs": [],
   "source": [
    "poly = PolynomialFeatures(2)"
   ]
  },
  {
   "cell_type": "code",
   "execution_count": 245,
   "metadata": {},
   "outputs": [
    {
     "data": {
      "text/plain": [
       "(697, 1770)"
      ]
     },
     "execution_count": 245,
     "metadata": {},
     "output_type": "execute_result"
    }
   ],
   "source": [
    "X_transformed_train = poly.fit_transform(X_train)\n",
    "X_transformed_test = poly.fit_transform(X_test)\n",
    "\n",
    "\n",
    "X_transformed_train.shape"
   ]
  },
  {
   "cell_type": "code",
   "execution_count": 246,
   "metadata": {
    "collapsed": true
   },
   "outputs": [],
   "source": [
    "# Calling logreg_model with transformed features.\n",
    "acc_train_logreg = []\n",
    "acc_test_logreg = []\n",
    "c_logreg = []"
   ]
  },
  {
   "cell_type": "code",
   "execution_count": 275,
   "metadata": {},
   "outputs": [
    {
     "name": "stdout",
     "output_type": "stream",
     "text": [
      "(697, 1770)\n",
      "Accuracy on training data = 0.793400\n",
      "Accuracy on test data = 0.828326\n"
     ]
    },
    {
     "name": "stderr",
     "output_type": "stream",
     "text": [
      "C:\\Users\\musfe\\Anaconda3.6\\lib\\site-packages\\sklearn\\linear_model\\sag.py:326: ConvergenceWarning: The max_iter was reached which means the coef_ did not converge\n",
      "  \"the coef_ did not converge\", ConvergenceWarning)\n"
     ]
    }
   ],
   "source": [
    "logreg_model(0.0001, X_transformed_train, Y_train, X_transformed_test, Y_test)"
   ]
  },
  {
   "cell_type": "code",
   "execution_count": 248,
   "metadata": {},
   "outputs": [
    {
     "name": "stdout",
     "output_type": "stream",
     "text": [
      "[0.84978540772532185]\n"
     ]
    }
   ],
   "source": [
    "print(acc_test_logreg )"
   ]
  },
  {
   "cell_type": "code",
   "execution_count": 249,
   "metadata": {
    "collapsed": true
   },
   "outputs": [],
   "source": [
    "# Calling logreg_model2 with transformed features.\n",
    "acc_train_logreg2 = []\n",
    "acc_test_logreg2 = []\n",
    "c_logreg2 = []"
   ]
  },
  {
   "cell_type": "code",
   "execution_count": 265,
   "metadata": {},
   "outputs": [
    {
     "name": "stdout",
     "output_type": "stream",
     "text": [
      "Accuracy on training data = 1.000000\n",
      "Accuracy on training data = 0.802575\n"
     ]
    }
   ],
   "source": [
    "logreg2_model(1, X_transformed_train, Y_train, X_transformed_test, Y_test)"
   ]
  },
  {
   "cell_type": "code",
   "execution_count": 152,
   "metadata": {},
   "outputs": [
    {
     "name": "stdout",
     "output_type": "stream",
     "text": [
      "[0.77264653641207814, 0.77087033747779754]\n"
     ]
    }
   ],
   "source": [
    "print(acc_test_logreg2)"
   ]
  },
  {
   "cell_type": "code",
   "execution_count": 153,
   "metadata": {},
   "outputs": [
    {
     "name": "stdout",
     "output_type": "stream",
     "text": [
      "[0.77264653641207814, 0.77087033747779754]\n"
     ]
    }
   ],
   "source": [
    "print(acc_test_logreg2)"
   ]
  },
  {
   "cell_type": "code",
   "execution_count": 154,
   "metadata": {},
   "outputs": [
    {
     "data": {
      "text/plain": [
       "[<matplotlib.lines.Line2D at 0x213f4e496a0>]"
      ]
     },
     "execution_count": 154,
     "metadata": {},
     "output_type": "execute_result"
    },
    {
     "data": {
      "image/png": "[encoded data removed]",
      "text/plain": [
       "<matplotlib.figure.Figure at 0x213f4df8ba8>"
      ]
     },
     "metadata": {},
     "output_type": "display_data"
    }
   ],
   "source": [
    "plt.plot(c_logreg2, acc_test_logreg2 )"
   ]
  },
  {
   "cell_type": "markdown",
   "metadata": {
    "collapsed": true
   },
   "source": [
    "# Neural Networks "
   ]
  },
  {
   "cell_type": "code",
   "execution_count": 162,
   "metadata": {
    "collapsed": true
   },
   "outputs": [],
   "source": [
    "from sklearn.neural_network import MLPClassifier\n",
    "\n",
    "acc_train_nn = []\n",
    "acc_test_nn = []\n"
   ]
  },
  {
   "cell_type": "markdown",
   "metadata": {},
   "source": [
    "# Regularization- Multi layer Perceptron"
   ]
  },
  {
   "cell_type": "code",
   "execution_count": 183,
   "metadata": {},
   "outputs": [],
   "source": [
    "def mlpclassifier(a):\n",
    "    mlp = MLPClassifier(solver='lbfgs', alpha=a, hidden_layer_sizes=(5, 2), random_state=1)\n",
    "    mlp.fit(X_train, Y_train)\n",
    "\n",
    "    # Find the prediction and accuracy on the training set.\n",
    "    Yhat_nn_train = mlp.predict(X_train)\n",
    "    acc_train = np.mean(Yhat_nn_train == Y_train)\n",
    "    acc_train_nn.append(acc_train)\n",
    "    print('Accuracy = {0:f}'.format(acc))\n",
    "    \n",
    "    # Find the prediction and accuracy on the test set.\n",
    "    Yhat_nn_test = mlp.predict(X_test)\n",
    "    acc_test = np.mean(Yhat_nn_test == Y_test)\n",
    "    acc_test_nn.append(acc_test)\n",
    "    print('Accuracy = {0:f}'.format(acc))\n",
    "    "
   ]
  },
  {
   "cell_type": "code",
   "execution_count": 184,
   "metadata": {},
   "outputs": [],
   "source": [
    "h = .02  # step size in the mesh\n",
    "\n",
    "alphas = np.logspace(-5, 3, 5)\n",
    "names = []\n",
    "for i in alphas:\n",
    "    names.append('alpha ' + str(i))"
   ]
  },
  {
   "cell_type": "code",
   "execution_count": 185,
   "metadata": {
    "collapsed": true
   },
   "outputs": [],
   "source": [
    "classifiers = []\n",
    "for i in alphas:\n",
    "    classifiers.append(MLPClassifier(alpha=i, random_state=1))"
   ]
  },
  {
   "cell_type": "code",
   "execution_count": 187,
   "metadata": {},
   "outputs": [],
   "source": [
    "from sklearn.datasets import make_moons, make_circles, make_classification\n",
    "\n",
    "\n",
    "make_classification(n_features=2, n_redundant=0, n_informative=2, random_state=0, n_clusters_per_class=1)\n",
    "rng = np.random.RandomState(2)\n",
    "X += 2 * rng.uniform(size=X.shape)\n",
    "linearly_separable = (X, y)\n"
   ]
  },
  {
   "cell_type": "code",
   "execution_count": null,
   "metadata": {},
   "outputs": [],
   "source": [
    "\n"
   ]
  },
  {
   "cell_type": "code",
   "execution_count": 205,
   "metadata": {},
   "outputs": [
    {
     "data": {
      "image/png": "[encoded data removed]",
      "text/plain": [
       "<matplotlib.figure.Figure at 0x2138021a5f8>"
      ]
     },
     "metadata": {},
     "output_type": "display_data"
    }
   ],
   "source": [
    "from sklearn.preprocessing import StandardScaler\n",
    "from sklearn.model_selection import train_test_split\n",
    "from matplotlib.colors import ListedColormap\n",
    "\n",
    "\n",
    "i = 1\n",
    "\n",
    "for X, y in datasets:\n",
    "    # preprocess dataset, split into training and test part\n",
    "    # X = StandardScaler().fit_transform(X)\n",
    "    \n",
    "    # X_train, X_test, Y_train, Y_test = train_test_split(X, y, test_size=.4)\n",
    "\n",
    "    x_min, x_max = X[:, 0].min() - .5, X[:, 0].max() + .5\n",
    "    y_min, y_max = X[:, 1].min() - .5, X[:, 1].max() + .5\n",
    "    xx, yy = np.meshgrid(np.arange(x_min, x_max, h),\n",
    "                         np.arange(y_min, y_max, h))\n",
    "\n",
    "    # just plot the dataset first\n",
    "    cm = plt.cm.RdBu\n",
    "    cm_bright = ListedColormap(['#FF0000', '#0000FF'])\n",
    "    ax = plt.subplot(len(df2), len(classifiers) + 1, i)\n",
    "    # Plot the training points\n",
    "    ax.scatter(X_train[:, 0], X_train[:, 1], c=Y_train, cmap=cm_bright)\n",
    "    # and testing points\n",
    "    ax.scatter(X_test[:, 0], X_test[:, 1], c=Y_test, cmap=cm_bright, alpha=0.6)\n",
    "    ax.set_xlim(xx.min(), xx.max())\n",
    "    ax.set_ylim(yy.min(), yy.max())\n",
    "    ax.set_xticks(())\n",
    "    ax.set_yticks(())\n",
    "    i += 1\n",
    "   "
   ]
  },
  {
   "cell_type": "code",
   "execution_count": null,
   "metadata": {
    "collapsed": true
   },
   "outputs": [],
   "source": []
  }
 ],
 "metadata": {
  "kernelspec": {
   "display_name": "Python 3",
   "language": "python",
   "name": "python3"
  },
  "language_info": {
   "codemirror_mode": {
    "name": "ipython",
    "version": 3
   },
   "file_extension": ".py",
   "mimetype": "text/x-python",
   "name": "python",
   "nbconvert_exporter": "python",
   "pygments_lexer": "ipython3",
   "version": "3.6.3"
  }
 },
 "nbformat": 4,
 "nbformat_minor": 2
}
